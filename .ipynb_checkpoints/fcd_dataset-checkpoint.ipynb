{
 "cells": [
  {
   "cell_type": "code",
   "execution_count": 13,
   "id": "d1fe0899",
   "metadata": {},
   "outputs": [],
   "source": [
    "from data.segmentation_data import SegmentationData\n",
    "from options.train_options import TrainOptions\n",
    "from easydict import EasyDict as edict\n",
    "import yaml\n",
    "\n",
    "with open('./configs/meshcnn_fcd_base.yaml') as fin:\n",
    "        opt = edict(yaml.safe_load(fin))"
   ]
  },
  {
   "cell_type": "code",
   "execution_count": 15,
   "id": "cdfa3fd1",
   "metadata": {},
   "outputs": [
    {
     "name": "stdout",
     "output_type": "stream",
     "text": [
      "total 99544\r\n",
      "drwxrwxr-x 19 ibulygin users     4096 сен 11 18:13 \u001b[0m\u001b[01;34m.\u001b[0m/\r\n",
      "drwxrwxr-x 16 root      1001     4096 авг 26 13:28 \u001b[01;34m..\u001b[0m/\r\n",
      "drwxr-xr-x  9 ibulygin users     4096 сен  1 18:01 \u001b[01;34m3DUnetCNN\u001b[0m/\r\n",
      "drwx------ 15 ibulygin users     4096 янв 30  2020 \u001b[01;34m.cache_backup\u001b[0m/\r\n",
      "drwxrwxr-x  5 ibulygin users     4096 июн  4  2020 \u001b[01;34mDiscrete-Curvature-Graph-Classification\u001b[0m/\r\n",
      "-rw-r--r--  1 ibulygin users     3120 дек 18  2019 exports\r\n",
      "drwxr-xr-x  4 ibulygin users     4096 сен 11 18:15 \u001b[01;34mfcd_newdataset\u001b[0m/\r\n",
      "drwxr-xr-x  5 ibulygin users     4096 сен 13 00:00 \u001b[01;34mfcd_newdataset_meshes\u001b[0m/\r\n",
      "drwxr-xr-x  2 ibulygin users     4096 сен  9 01:08 \u001b[01;34mfcd_newdataset_tensors\u001b[0m/\r\n",
      "drwxr-xr-x  4 ibulygin users     4096 окт 11  2019 \u001b[01;34mhuman36m-preprocessing\u001b[0m/\r\n",
      "drwxr-xr-x  2 ibulygin users     4096 мар 18  2020 \u001b[01;34m.ipynb_checkpoints\u001b[0m/\r\n",
      "drwxrwxr-x  2 ibulygin users     4096 июн 23  2020 \u001b[01;34mmatplotlib-ibulygin\u001b[0m/\r\n",
      "drwxrwxr-x 12 ibulygin users     4096 сен 13 23:21 \u001b[01;34mMeshCNN\u001b[0m/\r\n",
      "drwxr-xr-x 16 ibulygin users     4096 авг 30 22:07 \u001b[01;34mminiconda3\u001b[0m/\r\n",
      "-rw-r--r--  1 ibulygin users 66709754 июл 21 19:13 Miniconda3-latest-Linux-x86_64.sh\r\n",
      "drwxr-xr-x  6 ibulygin users     4096 сен  6 02:37 \u001b[01;34mMulticore-TSNE\u001b[0m/\r\n",
      "drwxrwxr-x  4 ibulygin users     4096 авг 15 15:44 \u001b[01;34mnetwork-portrait-divergence\u001b[0m/\r\n",
      "drwxrwx---  7 ibulygin users     4096 авг 11 21:57 \u001b[01;34mNeuroMice\u001b[0m/\r\n",
      "-rw-r--r--  1 ibulygin users      205 сен  8 18:24 Pipfile\r\n",
      "-rw-r--r--  1 ibulygin users      561 сен  8 18:24 Pipfile.lock\r\n",
      "drwxr-xr-x  7 ibulygin users     4096 сен  1 17:39 \u001b[01;34mraw_data\u001b[0m/\r\n",
      "-rw-rw-r--  1 ibulygin users      128 авг 28 19:57 run_jupyter_gpu\r\n",
      "-rw-rw-r--  1 ibulygin users      122 июн  8 17:34 run_test_cuda\r\n",
      "drwxrwxr-x 12 ibulygin users     4096 сен 13 23:04 \u001b[01;34mSkoltech-Microbiome-Project\u001b[0m/\r\n",
      "-rw-rw-r--  1 ibulygin users      174 янв  8  2020 test_cuda.py\r\n",
      "-rw-rw-r--  1 ibulygin users 35118793 ноя 10  2020 train_logs.txt\r\n",
      "drwx------  5 ibulygin users     4096 фев 25  2020 \u001b[01;34m.Trash-1000\u001b[0m/\r\n"
     ]
    }
   ],
   "source": [
    "ls -la ../"
   ]
  },
  {
   "cell_type": "code",
   "execution_count": 14,
   "id": "70615f84",
   "metadata": {},
   "outputs": [
    {
     "ename": "AssertionError",
     "evalue": "datasets/fcd_seg/train is not a valid directory",
     "output_type": "error",
     "traceback": [
      "\u001b[0;31m---------------------------------------------------------------------------\u001b[0m",
      "\u001b[0;31mAssertionError\u001b[0m                            Traceback (most recent call last)",
      "\u001b[0;32m<ipython-input-14-02012a148c7a>\u001b[0m in \u001b[0;36m<module>\u001b[0;34m()\u001b[0m\n\u001b[0;32m----> 1\u001b[0;31m \u001b[0mdataset\u001b[0m \u001b[0;34m=\u001b[0m \u001b[0mSegmentationData\u001b[0m\u001b[0;34m(\u001b[0m\u001b[0mopt\u001b[0m\u001b[0;34m)\u001b[0m\u001b[0;34m\u001b[0m\u001b[0;34m\u001b[0m\u001b[0m\n\u001b[0m",
      "\u001b[0;32m/hdd/ibulygin/MeshCNN/data/segmentation_data.py\u001b[0m in \u001b[0;36m__init__\u001b[0;34m(self, opt)\u001b[0m\n\u001b[1;32m     14\u001b[0m         \u001b[0mself\u001b[0m\u001b[0;34m.\u001b[0m\u001b[0mroot\u001b[0m \u001b[0;34m=\u001b[0m \u001b[0mopt\u001b[0m\u001b[0;34m.\u001b[0m\u001b[0mdataroot\u001b[0m\u001b[0;34m\u001b[0m\u001b[0;34m\u001b[0m\u001b[0m\n\u001b[1;32m     15\u001b[0m         \u001b[0mself\u001b[0m\u001b[0;34m.\u001b[0m\u001b[0mdir\u001b[0m \u001b[0;34m=\u001b[0m \u001b[0mos\u001b[0m\u001b[0;34m.\u001b[0m\u001b[0mpath\u001b[0m\u001b[0;34m.\u001b[0m\u001b[0mjoin\u001b[0m\u001b[0;34m(\u001b[0m\u001b[0mopt\u001b[0m\u001b[0;34m.\u001b[0m\u001b[0mdataroot\u001b[0m\u001b[0;34m,\u001b[0m \u001b[0mopt\u001b[0m\u001b[0;34m.\u001b[0m\u001b[0mphase\u001b[0m\u001b[0;34m)\u001b[0m\u001b[0;34m\u001b[0m\u001b[0;34m\u001b[0m\u001b[0m\n\u001b[0;32m---> 16\u001b[0;31m         \u001b[0mself\u001b[0m\u001b[0;34m.\u001b[0m\u001b[0mpaths\u001b[0m \u001b[0;34m=\u001b[0m \u001b[0msorted\u001b[0m\u001b[0;34m(\u001b[0m\u001b[0mself\u001b[0m\u001b[0;34m.\u001b[0m\u001b[0mmake_dataset\u001b[0m\u001b[0;34m(\u001b[0m\u001b[0mself\u001b[0m\u001b[0;34m.\u001b[0m\u001b[0mdir\u001b[0m\u001b[0;34m)\u001b[0m\u001b[0;34m)\u001b[0m\u001b[0;34m\u001b[0m\u001b[0;34m\u001b[0m\u001b[0m\n\u001b[0m\u001b[1;32m     17\u001b[0m         \u001b[0mself\u001b[0m\u001b[0;34m.\u001b[0m\u001b[0mseg_paths\u001b[0m \u001b[0;34m=\u001b[0m \u001b[0mself\u001b[0m\u001b[0;34m.\u001b[0m\u001b[0mget_seg_files\u001b[0m\u001b[0;34m(\u001b[0m\u001b[0mself\u001b[0m\u001b[0;34m.\u001b[0m\u001b[0mpaths\u001b[0m\u001b[0;34m,\u001b[0m \u001b[0mos\u001b[0m\u001b[0;34m.\u001b[0m\u001b[0mpath\u001b[0m\u001b[0;34m.\u001b[0m\u001b[0mjoin\u001b[0m\u001b[0;34m(\u001b[0m\u001b[0mself\u001b[0m\u001b[0;34m.\u001b[0m\u001b[0mroot\u001b[0m\u001b[0;34m,\u001b[0m \u001b[0;34m'seg'\u001b[0m\u001b[0;34m)\u001b[0m\u001b[0;34m,\u001b[0m \u001b[0mseg_ext\u001b[0m\u001b[0;34m=\u001b[0m\u001b[0;34m'.eseg'\u001b[0m\u001b[0;34m)\u001b[0m\u001b[0;34m\u001b[0m\u001b[0;34m\u001b[0m\u001b[0m\n\u001b[1;32m     18\u001b[0m         \u001b[0mself\u001b[0m\u001b[0;34m.\u001b[0m\u001b[0msseg_paths\u001b[0m \u001b[0;34m=\u001b[0m \u001b[0mself\u001b[0m\u001b[0;34m.\u001b[0m\u001b[0mget_seg_files\u001b[0m\u001b[0;34m(\u001b[0m\u001b[0mself\u001b[0m\u001b[0;34m.\u001b[0m\u001b[0mpaths\u001b[0m\u001b[0;34m,\u001b[0m \u001b[0mos\u001b[0m\u001b[0;34m.\u001b[0m\u001b[0mpath\u001b[0m\u001b[0;34m.\u001b[0m\u001b[0mjoin\u001b[0m\u001b[0;34m(\u001b[0m\u001b[0mself\u001b[0m\u001b[0;34m.\u001b[0m\u001b[0mroot\u001b[0m\u001b[0;34m,\u001b[0m \u001b[0;34m'sseg'\u001b[0m\u001b[0;34m)\u001b[0m\u001b[0;34m,\u001b[0m \u001b[0mseg_ext\u001b[0m\u001b[0;34m=\u001b[0m\u001b[0;34m'.seseg'\u001b[0m\u001b[0;34m)\u001b[0m\u001b[0;34m\u001b[0m\u001b[0;34m\u001b[0m\u001b[0m\n",
      "\u001b[0;32m/hdd/ibulygin/MeshCNN/data/segmentation_data.py\u001b[0m in \u001b[0;36mmake_dataset\u001b[0;34m(path)\u001b[0m\n\u001b[1;32m     72\u001b[0m     \u001b[0;32mdef\u001b[0m \u001b[0mmake_dataset\u001b[0m\u001b[0;34m(\u001b[0m\u001b[0mpath\u001b[0m\u001b[0;34m)\u001b[0m\u001b[0;34m:\u001b[0m\u001b[0;34m\u001b[0m\u001b[0;34m\u001b[0m\u001b[0m\n\u001b[1;32m     73\u001b[0m         \u001b[0mmeshes\u001b[0m \u001b[0;34m=\u001b[0m \u001b[0;34m[\u001b[0m\u001b[0;34m]\u001b[0m\u001b[0;34m\u001b[0m\u001b[0;34m\u001b[0m\u001b[0m\n\u001b[0;32m---> 74\u001b[0;31m         \u001b[0;32massert\u001b[0m \u001b[0mos\u001b[0m\u001b[0;34m.\u001b[0m\u001b[0mpath\u001b[0m\u001b[0;34m.\u001b[0m\u001b[0misdir\u001b[0m\u001b[0;34m(\u001b[0m\u001b[0mpath\u001b[0m\u001b[0;34m)\u001b[0m\u001b[0;34m,\u001b[0m \u001b[0;34m'%s is not a valid directory'\u001b[0m \u001b[0;34m%\u001b[0m \u001b[0mpath\u001b[0m\u001b[0;34m\u001b[0m\u001b[0;34m\u001b[0m\u001b[0m\n\u001b[0m\u001b[1;32m     75\u001b[0m \u001b[0;34m\u001b[0m\u001b[0m\n\u001b[1;32m     76\u001b[0m         \u001b[0;32mfor\u001b[0m \u001b[0mroot\u001b[0m\u001b[0;34m,\u001b[0m \u001b[0m_\u001b[0m\u001b[0;34m,\u001b[0m \u001b[0mfnames\u001b[0m \u001b[0;32min\u001b[0m \u001b[0msorted\u001b[0m\u001b[0;34m(\u001b[0m\u001b[0mos\u001b[0m\u001b[0;34m.\u001b[0m\u001b[0mwalk\u001b[0m\u001b[0;34m(\u001b[0m\u001b[0mpath\u001b[0m\u001b[0;34m)\u001b[0m\u001b[0;34m)\u001b[0m\u001b[0;34m:\u001b[0m\u001b[0;34m\u001b[0m\u001b[0;34m\u001b[0m\u001b[0m\n",
      "\u001b[0;31mAssertionError\u001b[0m: datasets/fcd_seg/train is not a valid directory"
     ]
    }
   ],
   "source": [
    "dataset = SegmentationData(opt)"
   ]
  }
 ],
 "metadata": {
  "kernelspec": {
   "display_name": "Python 3",
   "language": "python",
   "name": "python3"
  },
  "language_info": {
   "codemirror_mode": {
    "name": "ipython",
    "version": 3
   },
   "file_extension": ".py",
   "mimetype": "text/x-python",
   "name": "python",
   "nbconvert_exporter": "python",
   "pygments_lexer": "ipython3",
   "version": "3.6.13"
  }
 },
 "nbformat": 4,
 "nbformat_minor": 5
}

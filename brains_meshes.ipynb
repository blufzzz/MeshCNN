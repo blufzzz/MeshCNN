{
 "cells": [
  {
   "cell_type": "code",
   "execution_count": 1,
   "metadata": {},
   "outputs": [],
   "source": [
    "import glob\n",
    "from skimage.measure import marching_cubes_lewiner, marching_cubes\n",
    "from sklearn.model_selection import train_test_split\n",
    "from collections import defaultdict\n",
    "import nibabel\n",
    "import os\n",
    "import trimesh\n",
    "import numpy as np\n",
    "from natsort import natsorted\n",
    "import re\n",
    "import pymeshlab\n",
    "sorted = natsorted\n",
    "from numba import njit\n",
    "import cc3d\n",
    "from scipy.ndimage import gaussian_filter\n",
    "import matplotlib.pyplot as plt\n",
    "from IPython.core.debugger import set_trace\n",
    "from shutil import rmtree\n",
    "\n",
    "from tqdm import tqdm_notebook\n",
    "\n",
    "STEP_SIZE = 20\n",
    "PROCESS = True\n",
    "VALIDATE = True\n",
    "train_on = 'outer'\n",
    "\n",
    "BRAIN_FOLDER = '../fcd_newdataset/brain_folder/'\n",
    "MASK_FOLDER = '../fcd_newdataset/mask_folder/'\n",
    "\n",
    "MESHES_ROOT = f'../fcd_newdataset_meshes_s{STEP_SIZE}_p{int(PROCESS)}_v{int(VALIDATE)}_{train_on}'\n",
    "\n",
    "SAVE_FOLDER_INNER = os.path.join(MESHES_ROOT,'inner/')\n",
    "SAVE_FOLDER_OUTER = os.path.join(MESHES_ROOT,'outer/') \n",
    "SAVE_FOLDER_INNER_OUTER = os.path.join(MESHES_ROOT,'inner_and_outer/')  \n",
    "\n",
    "MCNN_TRAINING_ON = {'inner':SAVE_FOLDER_INNER,\n",
    "                    'outer':SAVE_FOLDER_OUTER,\n",
    "                    'inner_and_outer':SAVE_FOLDER_INNER_OUTER}[train_on]\n",
    "\n",
    "REBUILT = False\n",
    "if REBUILT:\n",
    "    rmtree(SAVE_FOLDER_INNER)\n",
    "    rmtree(SAVE_FOLDER_OUTER)\n",
    "    rmtree(SAVE_FOLDER_INNER_OUTER)\n",
    "    \n",
    "for f in [SAVE_FOLDER_INNER, SAVE_FOLDER_OUTER, SAVE_FOLDER_INNER_OUTER]:\n",
    "    os.makedirs(f, exist_ok=True)\n",
    "    os.makedirs(os.path.join(f,'seg'), exist_ok=True)\n",
    "    os.makedirs(os.path.join(f,'sseg'), exist_ok=True)\n",
    "\n",
    "brain_mask_names = sorted(glob.glob(MASK_FOLDER + '*.nii.gz'))\n",
    "labels = list(map(lambda x: re.findall('\\d+\\.\\d+',x), brain_mask_names))\n",
    "\n",
    "brain_img_names = {}\n",
    "brain_mask_names = {}\n",
    "\n",
    "for [label] in labels:\n",
    "    \n",
    "    brain_path = os.path.join(BRAIN_FOLDER, f'fcd_{label}.nii.gz')\n",
    "    mask_path = os.path.join(MASK_FOLDER, f'mask_fcd_{label}.nii.gz')\n",
    "    \n",
    "    if os.path.isfile(brain_path):\n",
    "        \n",
    "        brain_img_names[label] = brain_path\n",
    "        brain_mask_names[label] = mask_path"
   ]
  },
  {
   "cell_type": "code",
   "execution_count": 2,
   "metadata": {},
   "outputs": [],
   "source": [
    "# metrics = np.load('metric_dict_epoch.npy', allow_pickle=True).item()\n",
    "# plt.plot(metrics['train_loss'])\n",
    "# plt.plot(metrics['val_loss'])\n",
    "# plt.yscale('log')\n",
    "# plt.ylable('CE loss')\n",
    "# plt.xlable('# epoch')\n",
    "# plt.title('Learning for V2V model')\n",
    "# plt.show()"
   ]
  },
  {
   "cell_type": "markdown",
   "metadata": {},
   "source": [
    "# TODO\n",
    "\n",
    " - connect falling apart components into one\n",
    " - build full w\\g-matter graphs"
   ]
  },
  {
   "cell_type": "markdown",
   "metadata": {},
   "source": [
    "## Util functions"
   ]
  },
  {
   "cell_type": "code",
   "execution_count": 3,
   "metadata": {},
   "outputs": [],
   "source": [
    "def count_edges(faces):\n",
    "    \"\"\"\n",
    "        input: array of faces\n",
    "        output: dict, keys = id of edge, value = faces that contains this edge\n",
    "    \"\"\"\n",
    "    edge_dict = {}\n",
    "    for face in faces:\n",
    "        keys = [\n",
    "            tuple(sorted((face[0], face[1]))), tuple(sorted((face[1], face[2]))), tuple(sorted((face[0], face[2])))\n",
    "        ]\n",
    "        for key in keys:\n",
    "            edge_dict[key] = edge_dict.get(key, 0) + 1\n",
    "    return edge_dict\n",
    "\n",
    "def get_vertex_labels(verts, mask):\n",
    "    \"\"\"\n",
    "        verts: list of 3d coordinates of vertices\n",
    "        mask: 3d binary array of mask\n",
    "        \n",
    "        labels: binary labels for each vertice\n",
    "    \"\"\"\n",
    "    vs = verts.astype('int32')\n",
    "    labels = []\n",
    "    for v_ in vs:\n",
    "        a, b, c = v_\n",
    "        labels += [mask[a, b, c]]\n",
    "    labels = np.array(labels)\n",
    "    return labels\n",
    "\n",
    "def get_edge_labels(v_labels, e_dict):\n",
    "    \"\"\"\n",
    "        v_labels: vertex_labels\n",
    "        e_dict: edge_dict\n",
    "        \n",
    "        e_labels: binary labels for each edge\n",
    "    \"\"\"\n",
    "    es = list(e_dict.keys())\n",
    "    e_labels = []\n",
    "    for i, (v1, v2) in enumerate(es):\n",
    "        e_labels += [v_labels[v1] or v_labels[v2]]\n",
    "    e_labels = np.array(e_labels)\n",
    "    return e_labels\n",
    "\n",
    "@njit\n",
    "def morph_3d(mask, l=5):\n",
    "    \"\"\"\n",
    "        3d dilation for masks\n",
    "    \"\"\"\n",
    "    d, h, w = mask.shape\n",
    "    mask_padded = np.zeros((d+2*l//2, h+2*l//2, w+2*l//2))\n",
    "    mask_padded[l//2: -l//2, l//2: -l//2, l//2: -l//2] = mask.copy()\n",
    "    for i in range(d):\n",
    "        for j in range(h):\n",
    "            for k in range(w):\n",
    "                mask[i, j, k] = np.all(mask_padded[i: i + l, j: j + l, k: k + l])\n",
    "                \n",
    "def show_slices(brain_tensor, n_slices_show=5, mask_tensor=None):\n",
    "    \n",
    "    fig, axes = plt.subplots(ncols=3, nrows=n_slices_show, figsize=(15,n_slices_show*5))\n",
    "    X_max, Y_max, Z_max = brain_tensor.shape\n",
    "    for i in range(n_slices_show):\n",
    "\n",
    "        x_slice_pos = (X_max//(n_slices_show+2))*(i+1)\n",
    "        y_slice_pos = (Y_max//(n_slices_show+2))*(i+1)\n",
    "        z_slice_pos = (Z_max//(n_slices_show+2))*(i+1)\n",
    "\n",
    "        brain_tensor_x_slice = brain_tensor[x_slice_pos,:,:]\n",
    "        brain_tensor_y_slice = brain_tensor[:,y_slice_pos,:]\n",
    "        brain_tensor_z_slice = brain_tensor[:,:,z_slice_pos]\n",
    "\n",
    "        axes[i,0].imshow(brain_tensor_x_slice, 'gray')\n",
    "        axes[i,1].imshow(brain_tensor_y_slice, 'gray')\n",
    "        axes[i,2].imshow(brain_tensor_z_slice, 'gray')\n",
    "        \n",
    "        if mask_tensor is not None:\n",
    "            \n",
    "            mask_tensor_x_slice = mask_tensor[x_slice_pos,:,:]\n",
    "            mask_tensor_y_slice = mask_tensor[:,y_slice_pos,:]\n",
    "            mask_tensor_z_slice = mask_tensor[:,:,z_slice_pos]\n",
    "\n",
    "            axes[i,0].imshow(mask_tensor_x_slice, 'jet', interpolation='none', alpha=0.7)\n",
    "            axes[i,1].imshow(mask_tensor_y_slice, 'jet', interpolation='none', alpha=0.7)\n",
    "            axes[i,2].imshow(mask_tensor_z_slice, 'jet', interpolation='none', alpha=0.7)\n",
    "    plt.tight_layout()\n",
    "    plt.show()"
   ]
  },
  {
   "cell_type": "markdown",
   "metadata": {},
   "source": [
    "##  Extracting example"
   ]
  },
  {
   "cell_type": "code",
   "execution_count": 4,
   "metadata": {},
   "outputs": [],
   "source": [
    "# label = '10.1'\n",
    "# br_name = brain_img_names[label]\n",
    "\n",
    "# brain = nibabel.load(br_name)\n",
    "# mask = nibabel.load(brain_mask_names[label]).get_fdata() > 0 # why cast to bool? \n",
    "# brain_tensor_orig = brain.get_fdata() "
   ]
  },
  {
   "cell_type": "code",
   "execution_count": 5,
   "metadata": {},
   "outputs": [],
   "source": [
    "# plt.hist(brain_tensor_orig[brain_tensor_orig>0].flatten(), bins=100, label='pixel intensity hist')\n",
    "# white_matter_threshold = np.percentile(brain_tensor_orig[brain_tensor_orig>0].flatten(), 50)\n",
    "# plt.vlines(white_matter_threshold, 0, 400000, linestyle='--', color='red', label='median')\n",
    "# plt.legend()\n",
    "# plt.show()"
   ]
  },
  {
   "cell_type": "code",
   "execution_count": 6,
   "metadata": {},
   "outputs": [],
   "source": [
    "# show_slices(brain_tensor_orig, n_slices_show=3, mask_tensor=None)"
   ]
  },
  {
   "cell_type": "code",
   "execution_count": 7,
   "metadata": {},
   "outputs": [],
   "source": [
    "# show_slices(brain_tensor_orig, n_slices_show=2, mask_tensor=brain_tensor_orig > white_matter_thresold)"
   ]
  },
  {
   "cell_type": "code",
   "execution_count": 8,
   "metadata": {},
   "outputs": [],
   "source": [
    "# brain_tensor_white = brain_tensor_orig > white_matter_threshold # for the inner\n",
    "# l = 1\n",
    "# t = 0.4\n",
    "# brain_tensor_white = gaussian_filter(brain_tensor_white.astype('float'), sigma=l)\n",
    "# brain_tensor_white = brain_tensor_white > t # gray matter vs white matter? \n",
    "# labels_in = brain_tensor_white # where is a white matter"
   ]
  },
  {
   "cell_type": "code",
   "execution_count": 9,
   "metadata": {},
   "outputs": [],
   "source": [
    "# show_slices(brain_tensor_orig, n_slices_show=3, mask_tensor=labels_in)"
   ]
  },
  {
   "cell_type": "code",
   "execution_count": 10,
   "metadata": {},
   "outputs": [],
   "source": [
    "# labels_out = cc3d.connected_components(labels_in, connectivity=6)\n",
    "# u, c = np.unique(labels_out, return_counts=True)\n",
    "# max_connected_label = np.argmax(c[1:]) + 1\n",
    "# brain_tensor_white = labels_out == max_connected_label"
   ]
  },
  {
   "cell_type": "code",
   "execution_count": 11,
   "metadata": {
    "scrolled": false
   },
   "outputs": [],
   "source": [
    "# show_slices(brain_tensor_orig, n_slices_show=3, mask_tensor=brain_tensor_white)"
   ]
  },
  {
   "cell_type": "code",
   "execution_count": 12,
   "metadata": {},
   "outputs": [],
   "source": [
    "\n",
    "# verts, faces, normals, values = marching_cubes(brain_tensor_white, \n",
    "#                                                step_size=40, # 6\n",
    "#                                                allow_degenerate=False, \n",
    "#                                                gradient_direction='ascent')"
   ]
  },
  {
   "cell_type": "code",
   "execution_count": 13,
   "metadata": {},
   "outputs": [],
   "source": [
    "# mesh_n = trimesh.base.Trimesh(vertices = verts, faces = faces, vertex_normals=normals, process = True, validate=True)\n",
    "# # mesh_n.export(\"example_mesh.obj\")"
   ]
  },
  {
   "cell_type": "code",
   "execution_count": 14,
   "metadata": {},
   "outputs": [],
   "source": [
    "# mesh_n.show(smooth=True)"
   ]
  },
  {
   "cell_type": "code",
   "execution_count": 15,
   "metadata": {},
   "outputs": [],
   "source": [
    "# with open('example_mesh.obj') as file:\n",
    "#     data = file.read()"
   ]
  },
  {
   "cell_type": "code",
   "execution_count": 16,
   "metadata": {},
   "outputs": [],
   "source": [
    "# data = data.split('\\n')[1:]\n",
    "# types = []\n",
    "# for obj in tqdm_notebook(data):\n",
    "#     s = obj[:2].strip()\n",
    "#     if s not in types:\n",
    "#         types.append(s)"
   ]
  },
  {
   "cell_type": "markdown",
   "metadata": {},
   "source": [
    "# Extracting all meshes"
   ]
  },
  {
   "cell_type": "code",
   "execution_count": 17,
   "metadata": {},
   "outputs": [
    {
     "name": "stderr",
     "output_type": "stream",
     "text": [
      "/hdd/ibulygin/miniconda3/envs/fcd_hpc2/lib/python3.6/site-packages/ipykernel_launcher.py:4: TqdmDeprecationWarning: This function will be removed in tqdm==5.0.0\n",
      "Please use `tqdm.notebook.tqdm` instead of `tqdm.tqdm_notebook`\n",
      "  after removing the cwd from sys.path.\n"
     ]
    },
    {
     "data": {
      "application/vnd.jupyter.widget-view+json": {
       "model_id": "0dc85beae5c34ca39e938d1987c822eb",
       "version_major": 2,
       "version_minor": 0
      },
      "text/plain": [
       "0it [00:00, ?it/s]"
      ]
     },
     "metadata": {},
     "output_type": "display_data"
    },
    {
     "name": "stdout",
     "output_type": "stream",
     "text": [
      "vertex labels mean 0.0018039687312086591\n",
      "edge labels mean 0.0018039687312086591\n",
      "number of manifold edges 5337\n",
      "number of non-manifold edges 0\n",
      "vertex labels mean 0.003161222339304531\n",
      "edge labels mean 0.003161222339304531\n",
      "number of manifold edges 5952\n",
      "number of non-manifold edges 0\n",
      "vertex labels mean 0.004029936672423719\n",
      "edge labels mean 0.004029936672423719\n",
      "number of manifold edges 5439\n",
      "number of non-manifold edges 0\n",
      "vertex labels mean 0.0031729243786356425\n",
      "edge labels mean 0.0031729243786356425\n",
      "number of manifold edges 6075\n",
      "number of non-manifold edges 15\n",
      "vertex labels mean 0.002890173410404624\n",
      "edge labels mean 0.002890173410404624\n",
      "number of manifold edges 5496\n",
      "number of non-manifold edges 0\n",
      "vertex labels mean 0.009375\n",
      "edge labels mean 0.009375\n",
      "number of manifold edges 6144\n",
      "number of non-manifold edges 9\n",
      "vertex labels mean 0.005288207297726071\n",
      "edge labels mean 0.005288207297726071\n",
      "number of manifold edges 5967\n",
      "number of non-manifold edges 9\n",
      "vertex labels mean 0.0023752969121140144\n",
      "edge labels mean 0.0023752969121140144\n",
      "number of manifold edges 5335\n",
      "number of non-manifold edges 16\n",
      "vertex labels mean 0.0020191822311963654\n",
      "edge labels mean 0.0020191822311963654\n",
      "number of manifold edges 6261\n",
      "number of non-manifold edges 0\n",
      "vertex labels mean 0.004553215708594195\n",
      "edge labels mean 0.004553215708594195\n",
      "number of manifold edges 5571\n",
      "number of non-manifold edges 3\n",
      "vertex labels mean 0.001687289088863892\n",
      "edge labels mean 0.001687289088863892\n",
      "number of manifold edges 5562\n",
      "number of non-manifold edges 21\n",
      "vertex labels mean 0.0028653295128939827\n",
      "edge labels mean 0.0028653295128939827\n",
      "number of manifold edges 5607\n",
      "number of non-manifold edges 15\n",
      "vertex labels mean 0.0014347202295552368\n",
      "edge labels mean 0.0014347202295552368\n",
      "number of manifold edges 6579\n",
      "number of non-manifold edges 9\n",
      "vertex labels mean 0.002154011847065159\n",
      "edge labels mean 0.002154011847065159\n",
      "number of manifold edges 5859\n",
      "number of non-manifold edges 3\n",
      "vertex labels mean 0.001076426264800861\n",
      "edge labels mean 0.001076426264800861\n",
      "number of manifold edges 5835\n",
      "number of non-manifold edges 12\n",
      "vertex labels mean 0.004476776720761052\n",
      "edge labels mean 0.004476776720761052\n",
      "number of manifold edges 5697\n",
      "number of non-manifold edges 0\n",
      "vertex labels mean 0.0011086474501108647\n",
      "edge labels mean 0.0011086474501108647\n",
      "number of manifold edges 5700\n",
      "number of non-manifold edges 24\n",
      "vertex labels mean 0.006863780359028511\n",
      "edge labels mean 0.006863780359028511\n",
      "number of manifold edges 6066\n",
      "number of non-manifold edges 3\n",
      "vertex labels mean 0.005367686527106817\n",
      "edge labels mean 0.005367686527106817\n",
      "number of manifold edges 5937\n",
      "number of non-manifold edges 12\n",
      "vertex labels mean 0.005173305742369374\n",
      "edge labels mean 0.005173305742369374\n",
      "number of manifold edges 6088\n",
      "number of non-manifold edges 10\n",
      "vertex labels mean 0.0056410256410256415\n",
      "edge labels mean 0.0056410256410256415\n",
      "number of manifold edges 6282\n",
      "number of non-manifold edges 21\n",
      "vertex labels mean 0.0020757654385054488\n",
      "edge labels mean 0.0020757654385054488\n",
      "number of manifold edges 6027\n",
      "number of non-manifold edges 3\n",
      "vertex labels mean 0.0004997501249375312\n",
      "edge labels mean 0.0004997501249375312\n",
      "number of manifold edges 6279\n",
      "number of non-manifold edges 9\n",
      "vertex labels mean 0.00205761316872428\n",
      "edge labels mean 0.00205761316872428\n",
      "number of manifold edges 6156\n",
      "number of non-manifold edges 18\n",
      "vertex labels mean 0.0025974025974025974\n",
      "edge labels mean 0.0025974025974025974\n",
      "number of manifold edges 6105\n",
      "number of non-manifold edges 9\n",
      "vertex labels mean 0.0010723860589812334\n",
      "edge labels mean 0.0010723860589812334\n",
      "number of manifold edges 5973\n",
      "number of non-manifold edges 9\n",
      "vertex labels mean 0.0026795284030010718\n",
      "edge labels mean 0.0026795284030010718\n",
      "number of manifold edges 5826\n",
      "number of non-manifold edges 0\n"
     ]
    },
    {
     "data": {
      "application/vnd.jupyter.widget-view+json": {
       "model_id": "66134c50eac04a41aa481ef5e9758400",
       "version_major": 2,
       "version_minor": 0
      },
      "text/plain": [
       "0it [00:00, ?it/s]"
      ]
     },
     "metadata": {},
     "output_type": "display_data"
    },
    {
     "name": "stdout",
     "output_type": "stream",
     "text": [
      "vertex labels mean 0.004537205081669692\n",
      "edge labels mean 0.004537205081669692\n",
      "number of manifold edges 3300\n",
      "number of non-manifold edges 0\n",
      "vertex labels mean 0.0\n",
      "edge labels mean 0.0\n",
      "number of manifold edges 3624\n",
      "number of non-manifold edges 0\n",
      "vertex labels mean 0.0\n",
      "edge labels mean 0.0\n",
      "number of manifold edges 3516\n",
      "number of non-manifold edges 0\n",
      "vertex labels mean 0.008620689655172414\n",
      "edge labels mean 0.008620689655172414\n",
      "number of manifold edges 3474\n",
      "number of non-manifold edges 0\n",
      "vertex labels mean 0.0\n",
      "edge labels mean 0.0\n",
      "number of manifold edges 3405\n",
      "number of non-manifold edges 0\n",
      "vertex labels mean 0.0\n",
      "edge labels mean 0.0\n",
      "number of manifold edges 3330\n",
      "number of non-manifold edges 0\n",
      "vertex labels mean 0.004934210526315789\n",
      "edge labels mean 0.004934210526315789\n",
      "number of manifold edges 3642\n",
      "number of non-manifold edges 0\n",
      "vertex labels mean 0.0\n",
      "edge labels mean 0.0\n",
      "number of manifold edges 3339\n",
      "number of non-manifold edges 18\n",
      "vertex labels mean 0.0\n",
      "edge labels mean 0.0\n",
      "number of manifold edges 3768\n",
      "number of non-manifold edges 0\n",
      "vertex labels mean 0.0017574692442882249\n",
      "edge labels mean 0.0017574692442882249\n",
      "number of manifold edges 3408\n",
      "number of non-manifold edges 0\n",
      "vertex labels mean 0.0\n",
      "edge labels mean 0.0\n",
      "number of manifold edges 3624\n",
      "number of non-manifold edges 0\n",
      "vertex labels mean 0.0063119927862939585\n",
      "edge labels mean 0.0063119927862939585\n",
      "number of manifold edges 3321\n",
      "number of non-manifold edges 0\n",
      "vertex labels mean 0.002354788069073783\n",
      "edge labels mean 0.002354788069073783\n",
      "number of manifold edges 3816\n",
      "number of non-manifold edges 0\n",
      "vertex labels mean 0.0\n",
      "edge labels mean 0.0\n",
      "number of manifold edges 3564\n",
      "number of non-manifold edges 0\n",
      "vertex labels mean 0.0008038585209003215\n",
      "edge labels mean 0.0008038585209003215\n",
      "number of manifold edges 3719\n",
      "number of non-manifold edges 8\n",
      "vertex labels mean 0.0\n",
      "edge labels mean 0.0\n",
      "number of manifold edges 3450\n",
      "number of non-manifold edges 0\n",
      "vertex labels mean 0.0\n",
      "edge labels mean 0.0\n",
      "number of manifold edges 3471\n",
      "number of non-manifold edges 0\n",
      "vertex labels mean 0.0008130081300813008\n",
      "edge labels mean 0.0008130081300813008\n",
      "number of manifold edges 3684\n",
      "number of non-manifold edges 0\n",
      "vertex labels mean 0.0\n",
      "edge labels mean 0.0\n",
      "number of manifold edges 3447\n",
      "number of non-manifold edges 0\n",
      "vertex labels mean 0.0030816640986132513\n",
      "edge labels mean 0.0030816640986132513\n",
      "number of manifold edges 3895\n",
      "number of non-manifold edges 10\n",
      "vertex labels mean 0.001697792869269949\n",
      "edge labels mean 0.001697792869269949\n",
      "number of manifold edges 3528\n",
      "number of non-manifold edges 0\n",
      "vertex labels mean 0.0\n",
      "edge labels mean 0.0\n",
      "number of manifold edges 3816\n",
      "number of non-manifold edges 0\n",
      "vertex labels mean 0.0\n",
      "edge labels mean 0.0\n",
      "number of manifold edges 3654\n",
      "number of non-manifold edges 0\n",
      "vertex labels mean 0.0\n",
      "edge labels mean 0.0\n",
      "number of manifold edges 3744\n",
      "number of non-manifold edges 0\n",
      "vertex labels mean 0.0\n",
      "edge labels mean 0.0\n",
      "number of manifold edges 3900\n",
      "number of non-manifold edges 0\n",
      "vertex labels mean 0.0\n",
      "edge labels mean 0.0\n",
      "number of manifold edges 3528\n",
      "number of non-manifold edges 0\n",
      "vertex labels mean 0.0008183306055646482\n",
      "edge labels mean 0.0008183306055646482\n",
      "number of manifold edges 3654\n",
      "number of non-manifold edges 0\n"
     ]
    }
   ],
   "source": [
    "for mesh_type,SAVE_FOLDER in {'inner':SAVE_FOLDER_INNER, \n",
    "                              'outer':SAVE_FOLDER_OUTER}.items():\n",
    "    \n",
    "    for i, (label,br_name) in tqdm_notebook(enumerate(brain_img_names.items())):\n",
    "\n",
    "        brain_tensor = nibabel.load(br_name).get_fdata() \n",
    "        mask_tensor = nibabel.load(brain_mask_names[label]).get_fdata() > 0\n",
    "        white_matter_threshold = np.percentile(brain_tensor[brain_tensor>0].flatten(), 50)\n",
    "        if mesh_type == 'inner':\n",
    "            brain_tensor = brain_tensor > white_matter_threshold\n",
    "            l = 1\n",
    "            t = 0.4\n",
    "            brain_tensor = gaussian_filter(brain_tensor.astype('float'), sigma=l)\n",
    "            brain_tensor = brain_tensor > 0.4 # gray matter vs white matter? \n",
    "            labels_in = brain_tensor\n",
    "\n",
    "            labels_out = cc3d.connected_components(labels_in, connectivity=6)\n",
    "            u, c = np.unique(labels_out, return_counts=True)\n",
    "            max_connected_label = np.argmax(c[1:]) + 1\n",
    "            brain_tensor = labels_out == max_connected_label\n",
    "\n",
    "        else:\n",
    "            brain_tensor = brain_tensor > 0\n",
    "\n",
    "        verts, faces, normals, values = marching_cubes(brain_tensor, \n",
    "                                                       step_size=STEP_SIZE, \n",
    "                                                       allow_degenerate=False, \n",
    "                                                       gradient_direction = 'ascent')\n",
    "        \n",
    "        v_labels = get_vertex_labels(verts, mask_tensor)\n",
    "        print('vertex labels mean', v_labels.mean())\n",
    "        \n",
    "        e_dict = count_edges(faces)\n",
    "        np_e_dict = np.array(list(e_dict.values()))\n",
    "        e_labels = get_edge_labels(v_labels, e_dict)\n",
    "        print('edge labels mean', v_labels.mean())\n",
    "\n",
    "        print('number of manifold edges', (np_e_dict == 2).sum())\n",
    "        print('number of non-manifold edges', (np_e_dict != 2).sum())\n",
    "\n",
    "        mesh_n = trimesh.base.Trimesh(vertices = verts, faces = faces, process = PROCESS, validate=VALIDATE)\n",
    "        mesh_n.export(os.path.join(SAVE_FOLDER, f\"{label}.obj\")) # 'v', 'vn', 'f'\n",
    " \n",
    "        seg = e_labels + 1 # WHAT IS A FUCKING POINT? (see self.classes, self.offset in SegmentationData)\n",
    "        sseg = np.zeros((len(e_dict), 2), dtype=np.int32)\n",
    "        sseg[np.arange(seg.size), seg-1] = 1\n",
    "\n",
    "        with open(os.path.join(SAVE_FOLDER, f\"{label}.obj\"), 'a') as f:\n",
    "            for j, e in enumerate(e_dict):\n",
    "                f.write(f'\\ne {e[0]} {e[1]} {seg[j]}') # why add edges?\n",
    "        \n",
    "        # remove first line with trimesh github link\n",
    "        with open(os.path.join(SAVE_FOLDER, f\"{label}.obj\"), 'r') as fin:\n",
    "            data = fin.read().splitlines(True)\n",
    "        with open(os.path.join(SAVE_FOLDER, f\"{label}.obj\"), 'w') as fout:\n",
    "            fout.writelines(data[1:]) \n",
    "        \n",
    "        # save labels\n",
    "        np.savetxt(os.path.join(SAVE_FOLDER, f'seg/{label}.eseg'), seg)\n",
    "        np.savetxt(os.path.join(SAVE_FOLDER, f'sseg/{label}.seseg'), sseg)"
   ]
  },
  {
   "cell_type": "markdown",
   "metadata": {},
   "source": [
    "##  Combining inner and outter meshes"
   ]
  },
  {
   "cell_type": "code",
   "execution_count": 18,
   "metadata": {},
   "outputs": [],
   "source": [
    "def count_vertices(data):\n",
    "    \"\"\"\n",
    "        return count of vertices, faces and edges\n",
    "    \"\"\"\n",
    "    for j in range(len(data)):\n",
    "        if data[j][0] != 'v':\n",
    "            a = j\n",
    "            break\n",
    "    for j in range(a, len(data)):\n",
    "        if data[j][0] != 'f':\n",
    "            b = j\n",
    "            break\n",
    "    return a, b - a, len(data) - b\n",
    "\n",
    "def shift_line(line, n):\n",
    "    \"\"\"\n",
    "        line: line from text description of .obj file. it starts with 'v', 'e' or 'f'\n",
    "        n: shift indexing by this number\n",
    "        \n",
    "        return: shifted line\n",
    "    \"\"\"\n",
    "    ls = line.split(' ')\n",
    "    joins = [ls[0], str(int(ls[1]) + n), str(int(ls[2]) + n)]\n",
    "    try:\n",
    "        if ls[0] == 'e':\n",
    "            joins.append(str(int(ls[3])))\n",
    "        else:\n",
    "            joins.append(str(int(ls[3]) + n))\n",
    "    except:\n",
    "        print(line)\n",
    "        print(ls)\n",
    "        raise ValueError\n",
    "    return \" \".join(joins) + '\\n'"
   ]
  },
  {
   "cell_type": "code",
   "execution_count": 19,
   "metadata": {},
   "outputs": [],
   "source": [
    "# label = '0.1'\n",
    "# with open(os.path.join(SAVE_FOLDER_INNER, f\"{label}.obj\"), 'r') as fin:\n",
    "#     data_inner = fin.read().splitlines(True)\n",
    "        \n",
    "# with open(os.path.join(SAVE_FOLDER_OUTER, f\"{label}.obj\"), 'r') as fin:\n",
    "#     data_outter = fin.read().splitlines(True)"
   ]
  },
  {
   "cell_type": "code",
   "execution_count": 20,
   "metadata": {},
   "outputs": [],
   "source": [
    "if MCNN_TRAINING_ON == SAVE_FOLDER_INNER_OUTER:\n",
    "    for label in tqdm_notebook(brain_img_names.keys()):\n",
    "\n",
    "        with open(os.path.join(SAVE_FOLDER_INNER, f\"{label}.obj\"), 'r') as fin:\n",
    "            data_inner = fin.read().splitlines(True)\n",
    "\n",
    "        with open(os.path.join(SAVE_FOLDER_OUTER, f\"{label}.obj\"), 'r') as fin:\n",
    "            data_outter = fin.read().splitlines(True)\n",
    "\n",
    "        a1, b1, c1 = count_vertices(data_inner) # vertices, faces and edges\n",
    "        a2, b2, c2 = count_vertices(data_outter) \n",
    "\n",
    "        data = []\n",
    "\n",
    "        # vertices\n",
    "        data += data_inner[:a1] # inner vertices\n",
    "        data += data_outter[:a2] # inner + outer vertices\n",
    "\n",
    "        # faces\n",
    "        data += data_inner[a1: a1 + b1] # inner + outer vertices + inner faces\n",
    "        data += list(map(lambda x: shift_line(x, a1), data_outter[a2: a2 + b2])) # (inner + outer vertices) + (inner + outer faces)\n",
    "\n",
    "        # edges\n",
    "        data += data_inner[a1 + b1:]\n",
    "        data += list(map(lambda x: shift_line(x, a1), data_outter[a2 + b2:]))\n",
    "\n",
    "        with open(SAVE_FOLDER_INNER_OUTER + f\"{label}.obj\", 'w') as fout:\n",
    "            fout.writelines(data)\n",
    "\n",
    "        seg_inner = np.loadtxt(os.path.join(SAVE_FOLDER_INNER, 'seg/' + f\"{label}.eseg\"))\n",
    "        sseg_inner = np.loadtxt(os.path.join(SAVE_FOLDER_INNER, 'sseg/' + f\"{label}.seseg\"))    \n",
    "\n",
    "        seg_outter = np.loadtxt(os.path.join(SAVE_FOLDER_OUTER,'seg/' + f\"{label}.eseg\"))\n",
    "        sseg_outter = np.loadtxt(os.path.join(SAVE_FOLDER_OUTER,'sseg/' + f\"{label}.seseg\"))\n",
    "\n",
    "        seg = np.concatenate([seg_inner, seg_outter])\n",
    "        sseg = np.concatenate([sseg_inner, sseg_outter])\n",
    "        print(i, c1 + c2, seg.mean() - 1)\n",
    "\n",
    "        np.savetxt(os.path.join(SAVE_FOLDER_INNER_OUTER, f'seg/{label}.eseg'), seg)\n",
    "        np.savetxt(os.path.join(SAVE_FOLDER_INNER_OUTER, f'sseg/{label}.seseg'), sseg)"
   ]
  },
  {
   "cell_type": "markdown",
   "metadata": {},
   "source": [
    "## Preparing data for training MeshCNN"
   ]
  },
  {
   "cell_type": "code",
   "execution_count": 21,
   "metadata": {},
   "outputs": [],
   "source": [
    "import shutil\n",
    "\n",
    "FCD_FOLDER = os.path.join(MESHES_ROOT,'prepared/')\n",
    "\n",
    "labels_all = list(brain_img_names.keys())\n",
    "train_labels, test_labels = train_test_split(labels_all)\n",
    "\n",
    "os.makedirs(os.path.join(FCD_FOLDER, 'train'), exist_ok=True)\n",
    "os.makedirs(os.path.join(FCD_FOLDER, 'test'), exist_ok=True)\n",
    "os.makedirs(os.path.join(FCD_FOLDER, 'seg'), exist_ok=True)\n",
    "os.makedirs(os.path.join(FCD_FOLDER, 'sseg'), exist_ok=True)\n",
    "\n",
    "if os.path.exists(FCD_FOLDER +'test/cache'):\n",
    "    shutil.rmtree(FCD_FOLDER + 'test/cache')\n",
    "if os.path.exists(FCD_FOLDER + 'train/cache'):\n",
    "    shutil.rmtree(FCD_FOLDER + 'train/cache')\n",
    "    \n",
    "files = glob.glob(FCD_FOLDER + 'test/*')\n",
    "for f in files:\n",
    "    os.remove(f)\n",
    "files = glob.glob(FCD_FOLDER + 'train/*')\n",
    "for f in files:\n",
    "    os.remove(f)\n",
    "\n",
    "\n",
    "for label in train_labels:\n",
    "    shutil.copyfile(MCNN_TRAINING_ON + f\"{label}.obj\", FCD_FOLDER + 'train/' + f\"{label}.obj\")\n",
    "    shutil.copyfile(MCNN_TRAINING_ON + 'seg/'+ f\"{label}.eseg\", FCD_FOLDER + 'seg/' + f\"{label}.eseg\")\n",
    "    shutil.copyfile(MCNN_TRAINING_ON + 'sseg/'+ f\"{label}.seseg\", FCD_FOLDER + 'sseg/' + f\"{label}.seseg\")\n",
    "\n",
    "for label in test_labels:\n",
    "    shutil.copyfile(MCNN_TRAINING_ON + f\"{label}.obj\", FCD_FOLDER + 'test/' + f\"{label}.obj\")\n",
    "    shutil.copyfile(MCNN_TRAINING_ON + 'seg/'+ f\"{label}.eseg\", FCD_FOLDER + 'seg/' + f\"{label}.eseg\")\n",
    "    shutil.copyfile(MCNN_TRAINING_ON + 'sseg/'+ f\"{label}.seseg\", FCD_FOLDER + 'sseg/' + f\"{label}.seseg\")   "
   ]
  },
  {
   "cell_type": "code",
   "execution_count": 22,
   "metadata": {},
   "outputs": [
    {
     "data": {
      "text/plain": [
       "'../fcd_newdataset_meshes_s20_p1_v1_outer/prepared/'"
      ]
     },
     "execution_count": 22,
     "metadata": {},
     "output_type": "execute_result"
    }
   ],
   "source": [
    "FCD_FOLDER"
   ]
  },
  {
   "cell_type": "code",
   "execution_count": 23,
   "metadata": {},
   "outputs": [
    {
     "name": "stderr",
     "output_type": "stream",
     "text": [
      "/hdd/ibulygin/miniconda3/envs/fcd_hpc2/lib/python3.6/site-packages/ipykernel_launcher.py:2: TqdmDeprecationWarning: This function will be removed in tqdm==5.0.0\n",
      "Please use `tqdm.notebook.tqdm` instead of `tqdm.tqdm_notebook`\n",
      "  \n"
     ]
    },
    {
     "data": {
      "application/vnd.jupyter.widget-view+json": {
       "model_id": "08b74c4b2fb04b479213fa2f9bbc22a8",
       "version_major": 2,
       "version_minor": 0
      },
      "text/plain": [
       "  0%|          | 0/27 [00:00<?, ?it/s]"
      ]
     },
     "metadata": {},
     "output_type": "display_data"
    },
    {
     "name": "stdout",
     "output_type": "stream",
     "text": [
      "0.1\n",
      "1.1\n",
      "2.1\n",
      "3.1\n",
      "4.1\n",
      "5.1\n",
      "6.1\n",
      "7.1\n",
      "8.1\n",
      "9.1\n",
      "10.1\n",
      "11.1\n",
      "12.1\n",
      "13.1\n",
      "14.1\n",
      "15.1\n",
      "16.1\n",
      "17.1\n",
      "18.1\n",
      "19.1\n",
      "20.1\n",
      "21.1\n",
      "22.1\n",
      "23.1\n",
      "24.1\n",
      "25.1\n",
      "26.1\n"
     ]
    }
   ],
   "source": [
    "meshes_statistics = defaultdict(list)\n",
    "for label in tqdm_notebook(labels_all):\n",
    "    mesh_statistics = defaultdict(int)\n",
    "    with open(os.path.join(MCNN_TRAINING_ON, f\"{label}.obj\"), 'r') as fin:\n",
    "        print(label)\n",
    "        data_io = fin.read().splitlines(True)\n",
    "        for d in data_io:\n",
    "            mesh_statistics[d.split(' ')[0]] += 1\n",
    "    \n",
    "    for k,v in mesh_statistics.items():\n",
    "        meshes_statistics[k].append(v)"
   ]
  },
  {
   "cell_type": "code",
   "execution_count": 24,
   "metadata": {},
   "outputs": [
    {
     "data": {
      "text/plain": [
       "3905"
      ]
     },
     "execution_count": 24,
     "metadata": {},
     "output_type": "execute_result"
    }
   ],
   "source": [
    "max(meshes_statistics['e'])"
   ]
  },
  {
   "cell_type": "code",
   "execution_count": 25,
   "metadata": {},
   "outputs": [
    {
     "name": "stdout",
     "output_type": "stream",
     "text": [
      "drwxr-xr-x  4 ibulygin users     4096 сен 11 18:15 \u001b[01;34mfcd_newdataset\u001b[0m/\r\n",
      "drwxr-xr-x  6 ibulygin users     4096 сен 21 12:17 \u001b[01;34mfcd_newdataset_meshes_s10_p1_v1_outer\u001b[0m/\r\n",
      "drwxr-xr-x  6 ibulygin users     4096 сен 21 11:24 \u001b[01;34mfcd_newdataset_meshes_s20_p1_v1_outer\u001b[0m/\r\n",
      "drwxr-xr-x  4 ibulygin users     4096 сен 20 17:41 \u001b[01;34mfcd_newdataset_tensors\u001b[0m/\r\n"
     ]
    }
   ],
   "source": [
    "ls -la ../ | grep fcd"
   ]
  },
  {
   "cell_type": "markdown",
   "metadata": {},
   "source": [
    "## Shifting meshes from FreeSurfer"
   ]
  },
  {
   "cell_type": "code",
   "execution_count": 26,
   "metadata": {},
   "outputs": [],
   "source": [
    "# N = 15\n",
    "# base_names = ['lh.pial', 'lh.orig', 'rh.pial', 'rh.orig']\n",
    "# def shift_mesh(i, base_name):\n",
    "#     coords, faces, meta = nibabel.freesurfer.io.read_geometry(f'{i}_1_surf/{base_name}', read_metadata=True)\n",
    "#     coords += meta['cras']\n",
    "#     m = pymeshlab.Mesh(coords, faces)\n",
    "#     ms = pymeshlab.MeshSet()\n",
    "#     ms.add_mesh(m, base_name)\n",
    "#     ms.save_current_mesh(f\"meshlab_objects/{i}_{base_name}.obj\")\n",
    "\n",
    "# for i in range(N):\n",
    "#     for base_name in base_names:\n",
    "#         shift_mesh(i, base_name)"
   ]
  },
  {
   "cell_type": "markdown",
   "metadata": {},
   "source": [
    "## Checking good value for gauss sigma and threshold value"
   ]
  },
  {
   "cell_type": "code",
   "execution_count": 27,
   "metadata": {},
   "outputs": [],
   "source": [
    "\n",
    "# for i, br_name in enumerate(brain_img_names):\n",
    "#     print(i)\n",
    "#     brain = nibabel.load(br_name)\n",
    "#     mask = nibabel.load(brain_mask_names[i]).get_fdata() > 0\n",
    "#     brain_tensor = brain.get_fdata() > 95\n",
    "#     l = 7\n",
    "#     brain_tensor = gaussian_filter(brain_tensor.astype('float'), sigma=l)\n",
    "#     nifti = nibabel.Nifti1Image(brain_tensor.astype('float'), brain.affine)\n",
    "#     nibabel.save(nifti, f\"{i}_gauss_g_{l}.nii.gz\")\n",
    "#     t = 0.4\n",
    "#     nifti_t = nibabel.Nifti1Image((brain_tensor > t).astype('float'), brain.affine)\n",
    "#     nibabel.save(nifti_t, f\"{i}_gauss_g_{l}_t_{t}.nii.gz\") "
   ]
  },
  {
   "cell_type": "code",
   "execution_count": null,
   "metadata": {},
   "outputs": [],
   "source": []
  },
  {
   "cell_type": "code",
   "execution_count": 29,
   "metadata": {},
   "outputs": [],
   "source": [
    "metrics = np.load('metric_dict_epoch.npy', allow_pickle=True).item()"
   ]
  },
  {
   "cell_type": "code",
   "execution_count": 32,
   "metadata": {},
   "outputs": [
    {
     "data": {
      "image/png": "[encoded data removed]",
      "text/plain": [
       "<Figure size 432x288 with 1 Axes>"
      ]
     },
     "metadata": {
      "needs_background": "light"
     },
     "output_type": "display_data"
    }
   ],
   "source": [
    "plt.plot(metrics['train_loss'], label='train')\n",
    "plt.plot(metrics['val_loss'], label='val')\n",
    "plt.title('Train CE loss of V2V model')\n",
    "plt.xlabel('# epoch')\n",
    "plt.ylabel('CE loss')\n",
    "plt.legend()\n",
    "plt.show()"
   ]
  },
  {
   "cell_type": "code",
   "execution_count": null,
   "metadata": {},
   "outputs": [],
   "source": []
  }
 ],
 "metadata": {
  "kernelspec": {
   "display_name": "Python 3",
   "language": "python",
   "name": "python3"
  },
  "language_info": {
   "codemirror_mode": {
    "name": "ipython",
    "version": 3
   },
   "file_extension": ".py",
   "mimetype": "text/x-python",
   "name": "python",
   "nbconvert_exporter": "python",
   "pygments_lexer": "ipython3",
   "version": "3.6.13"
  }
 },
 "nbformat": 4,
 "nbformat_minor": 4
}
